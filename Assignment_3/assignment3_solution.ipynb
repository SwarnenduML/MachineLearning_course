{
 "cells": [
  {
   "cell_type": "markdown",
   "metadata": {
    "pycharm": {
     "name": "#%% md\n"
    }
   },
   "source": [
    "# Assignment 3: Linear Regression"
   ]
  },
  {
   "cell_type": "markdown",
   "metadata": {
    "pycharm": {
     "name": "#%% md\n"
    }
   },
   "source": [
    "For this assignment, you may `numpy`, `pandas`, and packages from the Python standard library.\n",
    "\n",
    "List your team members (name, matriculation number, course of study) in the following cell:"
   ]
  },
  {
   "cell_type": "markdown",
   "metadata": {
    "pycharm": {
     "name": "#%% md\n"
    }
   },
   "source": [
    "* Your names here"
   ]
  },
  {
   "cell_type": "markdown",
   "metadata": {
    "pycharm": {
     "name": "#%% md\n"
    }
   },
   "source": [
    "## Task 1: Linear Regression - Theory\n",
    "\n",
    "Hint: You can enter math in LaTeX style using single dollar signs for inline math, e.g. $x = \\cos{\\alpha}$, and double dollar signs for equations, e.g.\n",
    "$$\n",
    "\\begin{align}\n",
    "\\dot{x} &= Ax + Bu\\\\\n",
    "y &= Cx + Du\n",
    "\\end{align}\n",
    "$$\n",
    "\n",
    "1\\) Linear regression can include nonlinear features, why is it still called linear regression? In what sense is it linear?"
   ]
  },
  {
   "cell_type": "markdown",
   "metadata": {
    "pycharm": {
     "name": "#%% md\n"
    }
   },
   "source": [
    "*Your answer*\n",
    "\n",
    "- It is linear in its weights $\\beta$.\n",
    "- The input data $X$ can be replaced by arbitrary non-linear features."
   ]
  },
  {
   "cell_type": "markdown",
   "metadata": {
    "pycharm": {
     "name": "#%% md\n"
    }
   },
   "source": [
    "2\\) For calculating optimal parameters $\\hat{\\beta}$ the inverse of $X^\\top X$  has to be calculated. When would this matrix be singular?"
   ]
  },
  {
   "cell_type": "markdown",
   "metadata": {
    "pycharm": {
     "name": "#%% md\n"
    }
   },
   "source": [
    "*Your answer*\n",
    "\n",
    "Solution: If the columns of $X$ are not linearly independent, e.g. `X[:, 1] = 3*X[:, 0]`"
   ]
  },
  {
   "cell_type": "markdown",
   "metadata": {
    "pycharm": {
     "name": "#%% md\n"
    }
   },
   "source": [
    "3\\) Assume optimization of the weights $\\hat{\\beta}$ fails due to singularity of $X^\\top X$. Explain how you would modify $X$ to avoid this problem."
   ]
  },
  {
   "cell_type": "markdown",
   "metadata": {
    "pycharm": {
     "name": "#%% md\n"
    }
   },
   "source": [
    "*Your answer*\n",
    "\n",
    "Solution: Compute pairwise linear correlation between each column of $X$. Eliminate columns that have very strong correlation."
   ]
  },
  {
   "cell_type": "markdown",
   "metadata": {
    "pycharm": {
     "name": "#%% md\n"
    }
   },
   "source": [
    "4\\) Why does the optimization problem for $L_1$-regularization (Lasso) generally not have a closed form solution?"
   ]
  },
  {
   "cell_type": "markdown",
   "metadata": {
    "pycharm": {
     "name": "#%% md\n"
    }
   },
   "source": [
    "*Your answer*\n",
    "\n",
    "Solution: $\\vert \\beta \\vert$ is not continuously differentiable."
   ]
  },
  {
   "cell_type": "markdown",
   "metadata": {
    "pycharm": {
     "name": "#%% md\n"
    }
   },
   "source": [
    "5\\) Let us consider a time-series regression problem.\n",
    "\n",
    "We will look at the model of a lake. Given the water temperature, water conductivity, water alkalinity, NO3 content, and total hardness of the water, we want to predict the dissolved oxygen and algae content in the lake.\n",
    "\n",
    "The input is defined by $X \\in \\mathbb{R}^{T \\times 5}$ and the output is defined by $Y \\in \\mathbb{R}^{T \\times 2}$. $T$ is the number of time steps, where each time steps corresponds to a month.\n",
    "\n",
    "We want to predict the output at time step $t+1$ given the input and output at time step $t \\in \\{0, \\dots, T-1 \\}$. Formally, defined we need to learn the following function $f$:\n",
    "$$\n",
    "\\hat{y}_{t+1} = f(x_{t}, y_{t})\n",
    "$$\n",
    "where $x_{t}$ is the $t$-th row of $X$ and $y_{t}$ is the $t$-th row of $Y$.\n",
    "\n",
    "a\\) Formally define a linear regression model to estimate the function $f$."
   ]
  },
  {
   "cell_type": "markdown",
   "metadata": {
    "pycharm": {
     "name": "#%% md\n"
    }
   },
   "source": [
    "*Your answer*\n",
    "\n",
    "$\\hat{y}_{t+1} = A \\begin{bmatrix} x_t \\\\ y_t\\end{bmatrix} + b$\n",
    "\n",
    "with $A \\in \\mathbb{R}^{2 \\times (5+2)}$ and $b \\in \\mathbb{R}^2$."
   ]
  },
  {
   "cell_type": "markdown",
   "metadata": {
    "pycharm": {
     "name": "#%% md\n"
    }
   },
   "source": [
    "b\\) Dynamic systems, such as the lake in our example, often contain dynamics that are difficult or impossible to measure directly. However, these dynamics can be inferred from long-term time dependencies. For example, the water temperature measured two months ago might still have an impact on the algae content of the lake.\n",
    "\n",
    "A common feature introduced in models of dynamic systems are lag variables. In this task, you will extend your linear regression model from (a) to include the inputs and outputs of the last two months $t$ and $t-1$  to predict the output at month $t+1$. In this case, the features at time step $t-1$ would be considered lag variables.\n",
    "\n",
    "Update the function signature of $f$ to match the described prediction task. Then, formally define the linear regression model including the lagged variables."
   ]
  },
  {
   "cell_type": "markdown",
   "metadata": {
    "pycharm": {
     "name": "#%% md\n"
    }
   },
   "source": [
    "*Your answer*\n",
    "\n",
    "$f$ including lagged variables:\n",
    "$$\n",
    "\\hat{y}_{t+1} = f(x_{t}, x_{t-1}, y_{t}, y_{t-1}) \\text{ with } t \\in \\{1, \\dots, T-1 \\}\n",
    "$$\n",
    "Linear lag model:\n",
    "$$\n",
    "\\hat{y}_{t+1} = A^{(0)} \\begin{bmatrix} x_t \\\\ y_t\\end{bmatrix} + A^{(1)} \\begin{bmatrix} x_{t-1} \\\\ y_{t-1}\\end{bmatrix} + b\n",
    "$$\n",
    "with $A^{(i)} \\in \\mathbb{R}^{2 \\times 7}$ for $i=0,1$ and $b \\in \\mathbb{R}^2$.\n",
    "\n"
   ]
  },
  {
   "cell_type": "markdown",
   "metadata": {
    "pycharm": {
     "name": "#%% md\n"
    }
   },
   "source": [
    "## Task 2: Ridge Regression for Time-Series Prediction\n",
    "\n",
    "In this task, you will implement and evaluate a ridge regression model at the example of the lake model from the previous task. Make sure the provided `lake.dat` file is in the same directory as the Jupyter notebook.\n",
    "\n",
    "You can find the original data including references here: [DaISy - Data of a simulation of the western basin of Lake Erie](https://homes.esat.kuleuven.be/~smc/daisy/daisydata.html)."
   ]
  },
  {
   "cell_type": "code",
   "execution_count": 1,
   "metadata": {
    "pycharm": {
     "name": "#%%\n"
    }
   },
   "outputs": [],
   "source": [
    "import matplotlib.pyplot as plt\n",
    "import numpy as np"
   ]
  },
  {
   "cell_type": "code",
   "execution_count": 2,
   "metadata": {
    "pycharm": {
     "name": "#%%\n"
    }
   },
   "outputs": [
    {
     "name": "stdout",
     "output_type": "stream",
     "text": [
      "Train samples: 39, Test samples: 18\n"
     ]
    }
   ],
   "source": [
    "def load_lake_data():\n",
    "    with open('lake.dat') as f:\n",
    "        data = np.loadtxt(f)\n",
    "    X = data[:, 6:11]\n",
    "    Y = data[:, 23:25]\n",
    "    return X, Y\n",
    "\n",
    "def train_test_split(X, Y, train_fraction):\n",
    "    cutoff_idx = int(train_fraction * X.shape[0])\n",
    "    X_train, Y_train = X[:cutoff_idx], Y[:cutoff_idx]\n",
    "    X_test, Y_test = X[cutoff_idx:], Y[cutoff_idx:]\n",
    "\n",
    "    return X_train, Y_train, X_test, Y_test\n",
    "\n",
    "\n",
    "X_train, Y_train, X_test, Y_test = train_test_split(*load_lake_data(), train_fraction=0.7)\n",
    "print(f'Train samples: {X_train.shape[0]}, Test samples: {X_test.shape[0]}')"
   ]
  },
  {
   "cell_type": "markdown",
   "metadata": {
    "pycharm": {
     "name": "#%% md\n"
    }
   },
   "source": [
    "Training data is stored in `X_train` and `Y_train`. Test data is stored in `X_test` and `Y_test`.\n",
    "\n",
    "1\\) Create a plot that shows all inputs and outputs of the training dataset over time. For each variable a separate subplot should be created. Time should be displayed along the x-axis, while the value of each variable should be displayed along the y-axis.\n",
    "\n",
    "*Hint:* Use `plt.subplots(n, sharex=True)` to create `n` plots that are synchronized along the x-axis."
   ]
  },
  {
   "cell_type": "code",
   "execution_count": 3,
   "metadata": {
    "pycharm": {
     "name": "#%%\n"
    }
   },
   "outputs": [
    {
     "data": {
      "image/png": "[encoded data removed]",
      "text/plain": [
       "<Figure size 432x576 with 7 Axes>"
      ]
     },
     "metadata": {
      "needs_background": "light"
     },
     "output_type": "display_data"
    }
   ],
   "source": [
    "# Your code here\n",
    "\n",
    "input_names = ('temp', 'cond', 'alka', 'NO3', 'hardness')\n",
    "output_names = ('O2', 'algae')\n",
    "\n",
    "fig, ax = plt.subplots(X_train.shape[1] + Y_train.shape[1], sharex=True, figsize=(6, 8))\n",
    "XY = np.hstack((X_train, Y_train))\n",
    "for idx, name in enumerate(input_names + output_names):\n",
    "    line_color = 'C0' if idx < X_train.shape[1] else 'C1'\n",
    "    ax[idx].plot(XY[:, idx], color=line_color)\n",
    "    ax[idx].set_ylabel(name)\n",
    "ax[-1].set_xlabel('time in months');"
   ]
  },
  {
   "cell_type": "markdown",
   "metadata": {
    "pycharm": {
     "name": "#%% md\n"
    }
   },
   "source": [
    "2\\) The `make_features` takes as input a matrix of inputs `X` and a matrix of outputs `Y`, as well as the arguments `feature_type` and `lag`.\n",
    "It computes a features used as input for a linear regression.\n",
    "\n",
    "\n",
    "`X` has the shape `(T, 5)` and `Y` has the shape `(T, 2)` where `T` is a number of time steps.\n",
    "`feature_type` is a string with either value `lin` or `quad` whether only linear features or also quadratic features should be computed. `lag` is a boolean that determines whether the lag variables for `t-1`should be included (see Task 1.5).\n",
    "\n",
    "\n",
    "If `lag` is False, the returned feature matrix has shape `(T, D)` where `D` depends on the choice of `feature_type`.\n",
    "For `feature_type=lin` and `lag=False`, `D` equals `5+2+1`, for `feature_type=lin` and `lag=True`, `D` equals `2*(5+2)+1`.\n",
    "If `lag` is True, the returned feature matrix has shape `(T-1, D)`, since the additional lag variable prevents the creation of a feature for time step $t=0$.\n",
    "\n",
    "\n",
    "Extend the `make_features` method to also compute quadratic features (`ftype = 'quad'`) for both `lag=False` and `lag=True`.\n"
   ]
  },
  {
   "cell_type": "code",
   "execution_count": 4,
   "metadata": {
    "pycharm": {
     "name": "#%%\n"
    }
   },
   "outputs": [],
   "source": [
    "def make_features(X, Y, feature_type='lin', lag=False):\n",
    "    if feature_type == 'lin':\n",
    "        if lag:\n",
    "            Phi = np.hstack((\n",
    "                np.ones((X.shape[0]-1, 1)), # bias/intercept term\n",
    "                X[1:], # x_t\n",
    "                X[:-1], # x_{t-1}\n",
    "                Y[1:], # y_t\n",
    "                Y[:-1] # y_{t-1}\n",
    "            ))\n",
    "        else:\n",
    "            Phi = np.hstack((\n",
    "                np.ones((X.shape[0], 1)), # bias/intercept term\n",
    "                X, # x_t\n",
    "                Y # y_t\n",
    "            ))\n",
    "    elif feature_type == 'quad':\n",
    "        # Your code here\n",
    "        #raise NotImplementedError()\n",
    "        features = [\n",
    "            np.ones((X.shape[0]-1, 1))  if lag else np.ones((X.shape[0], 1))\n",
    "        ]\n",
    "        XY = np.hstack((X, Y))\n",
    "        if lag:\n",
    "            features.append(XY[1:])\n",
    "            features.append(XY[:-1])\n",
    "        else:\n",
    "            features.append(XY)\n",
    "        for i in range(XY.shape[1]):\n",
    "            for j in range(i, XY.shape[1]):\n",
    "                if lag:\n",
    "                    features.append((XY[1:, i] * XY[1:, j]).reshape(-1, 1))\n",
    "                    features.append((XY[:-1, i] * XY[:-1, j]).reshape(-1, 1))\n",
    "                else:\n",
    "                    features.append((XY[:, i] * XY[:, j]).reshape(-1, 1))\n",
    "        Phi = np.hstack(features)\n",
    "    else:\n",
    "        raise ValueError(f'feature_type is not implemented for {feature_type}')\n",
    "\n",
    "    return Phi\n"
   ]
  },
  {
   "cell_type": "markdown",
   "metadata": {
    "pycharm": {
     "name": "#%% md\n"
    }
   },
   "source": [
    "3\\) Implement ridge regression (linear regression using $L_2$-regularization) to fit a function with the regularization parameter `lambda_`, feature type `feature_type` and optional lag variable `lag`. Use the previously implemented `make_feature` function to allow for different features types and lag variables.\n",
    "\n",
    "Fill out the methods in `RidgeRegression` to train (`fit`) and predict (`predict`). Feel free to introduce new fields and methods based on your needs, but the methods `fit` and `predict` are required and their interface should not be changed. You need to store the vector of regression coefficients in the field `self.beta`. Before calculating the inverse check if the determinant is non-zero."
   ]
  },
  {
   "cell_type": "code",
   "execution_count": 5,
   "metadata": {
    "pycharm": {
     "name": "#%%\n"
    }
   },
   "outputs": [],
   "source": [
    "class RidgeRegression:\n",
    "    def __init__(self, lambda_, feature_type='lin', lag=False):\n",
    "        self.lambda_ = lambda_\n",
    "        self.feature_type = feature_type\n",
    "        self.lag = lag\n",
    "        self.beta = None  # Learned regression coefficients.\n",
    "\n",
    "    def fit(self, X, Y):\n",
    "        \"\"\"\n",
    "        X is the time series of inputs with shape (T, 5)\n",
    "        Y is the time series of outputs with shape (T, 2)\n",
    "        The goal is to predict the output at t+1 given the input and output at t (or at t and t-1 for lag=True).\n",
    "        Hint: Your prediction target during training is Y[1:] (or Y[2:] for lag=True).\n",
    "        \"\"\"\n",
    "        # Your code here\n",
    "        #raise NotImplementedError()\n",
    "\n",
    "        Phi = make_features(X[:-1], Y[:-1], feature_type=self.feature_type, lag=self.lag)\n",
    "        k = Phi.shape[1]\n",
    "        I = np.eye(k)\n",
    "        # \\beta_0 is not regularized\n",
    "        I[0, 0] = 0\n",
    "\n",
    "        # check if inverse exists\n",
    "        if np.linalg.det((Phi.T @ Phi)) == 0:\n",
    "            raise Exception(f'The Matrix Phi.T*Phi is singular and cannot be inverted.')\n",
    "        else:\n",
    "            # Computing the inverse can be inefficient and inaccurate\n",
    "            # an alternative to speed up computation would be to solve the linear equation\n",
    "            # Ax=b, where A = \\Phi^{\\top}\\Phi + \\lambda I and b = \\Phi^{\\top} y\n",
    "            # self.beta = np.linalg.solve((Phi.T @ Phi) + (self.lambda_ * I), Phi.T @ y)\n",
    "            Y = Y[2:] if self.lag else Y[1:]\n",
    "            self.beta = np.linalg.inv((Phi.T @ Phi) + (self.lambda_ * I)) @ Phi.T @ Y\n",
    "            #self.beta = np.linalg.solve((Phi.T @ Phi) + (self.lambda_ * I), Phi.T @ Y)\n",
    "            \n",
    "    def predict(self, X, Y):\n",
    "        \"\"\"\n",
    "        Predict the next time step for each given row.\n",
    "        X is the time series of inputs with shape (T, 5)\n",
    "        Y is the time series of outputs with shape (T, 2)\n",
    "        The output is of shape (T, 2) (or (T-1, 2) for lag=True).\n",
    "        \"\"\"\n",
    "        # Your code here\n",
    "        #raise NotImplementedError()\n",
    "\n",
    "        Phi = make_features(X, Y, feature_type=self.feature_type, lag=self.lag)\n",
    "\n",
    "        return Phi.dot(self.beta)"
   ]
  },
  {
   "cell_type": "markdown",
   "metadata": {
    "pycharm": {
     "name": "#%% md\n"
    }
   },
   "source": [
    "4\\) Evaluate your regression model with linear features (`feature_type='lin'`), no lag (`lag=False`) and no regularization (`lambda_=0.0`). Train the model on `X_train, Y_train` and evaluate it on `X_test, Y_test`.\n",
    "\n",
    "Compute and report the RMSE separately for both output variables. There should be an error value for dissolved oxygen and algae.\n",
    "\n",
    "Plot the true and predicted output variables over time similar to task 2.1. The true and predicted output of a variable should be shown in the same subplot for easy comparison."
   ]
  },
  {
   "cell_type": "code",
   "execution_count": 6,
   "metadata": {
    "pycharm": {
     "name": "#%%\n"
    }
   },
   "outputs": [
    {
     "name": "stdout",
     "output_type": "stream",
     "text": [
      "RMSE (Dissolved oxygen: 2.226517349112996\n",
      "RMSE (Algae): 1644.5457422400862\n"
     ]
    },
    {
     "data": {
      "image/png": "[encoded data removed]",
      "text/plain": [
       "<Figure size 432x576 with 2 Axes>"
      ]
     },
     "metadata": {
      "needs_background": "light"
     },
     "output_type": "display_data"
    }
   ],
   "source": [
    "# Your code here\n",
    "\n",
    "model = RidgeRegression(lambda_=0.0, feature_type='lin', lag=False)\n",
    "model.fit(X_train, Y_train)\n",
    "Y_pred = model.predict(X_test[:-1], Y_test[:-1])\n",
    "Y_true = Y_test[1:]\n",
    "\n",
    "rmse = np.sqrt(np.mean((Y_true - Y_pred)**2, axis=0))\n",
    "print(f'RMSE (Dissolved oxygen: {rmse[0]}')\n",
    "print(f'RMSE (Algae): {rmse[1]}')\n",
    "\n",
    "fig, ax = plt.subplots(len(output_names), sharex=True, figsize=(6, 8))\n",
    "for idx, name in enumerate(output_names):\n",
    "    ax[idx].plot(Y_pred[:, idx], label='pred')\n",
    "    ax[idx].plot(Y_true[:, idx], label='true')\n",
    "    ax[idx].set_ylabel(name)\n",
    "    ax[idx].legend()\n",
    "ax[-1].set_xlabel('time in months');"
   ]
  },
  {
   "cell_type": "markdown",
   "metadata": {},
   "source": [
    "### Discussion (Added 2022-05-18)\n",
    "\n",
    "The learned model is outperformed on test set by simply copying the outputs of the previous time step. The model would be defined as follows:\n",
    "$$\n",
    "\\begin{align}\n",
    "\\hat{y}(t+1) = y(t)\n",
    "\\end{align}\n",
    "$$\n",
    "This corresponds to the following linear regression model:\n",
    "$$\n",
    "\\begin{align}\n",
    "\\hat{y}(t+1) = \\mathbf{I} y(t) + \\mathbf{0} x(t)\n",
    "\\end{align}\n",
    "$$\n",
    "where $\\mathbf{I}$ is the identity matrix and $\\mathbf{0}$ is the zero matrix.\n",
    "\n",
    "As you can see here, the linear regression model overfits on the training data:"
   ]
  },
  {
   "cell_type": "code",
   "execution_count": 7,
   "metadata": {},
   "outputs": [
    {
     "name": "stdout",
     "output_type": "stream",
     "text": [
      "Linear Regression\n",
      "Train:\n",
      "- RMSE (Dissolved oxygen: 1.0562149961866727\n",
      "- RMSE (Algae): 974.7193693066225\n",
      "Test:\n",
      "- RMSE (Dissolved oxygen: 2.2294259818823647\n",
      "- RMSE (Algae): 1686.4166405083313\n",
      "\n",
      "Copy Outputs\n",
      "Train:\n",
      "- RMSE (Dissolved oxygen: 1.5975215442441846\n",
      "- RMSE (Algae): 1630.2332756409353\n",
      "Test:\n",
      "- RMSE (Dissolved oxygen: 1.7944528877209343\n",
      "- RMSE (Algae): 1062.7412428567688\n"
     ]
    }
   ],
   "source": [
    "print('Linear Regression')\n",
    "\n",
    "model = RidgeRegression(lambda_=0.0, feature_type='lin', lag=False)\n",
    "model.fit(X_train, Y_train)\n",
    "\n",
    "Y_pred = model.predict(X_train[1:-1], Y_train[1:-1])\n",
    "Y_true = Y_train[2:]\n",
    "rmse = np.sqrt(np.mean((Y_true - Y_pred)**2, axis=0))\n",
    "\n",
    "print('Train:')\n",
    "print(f'- RMSE (Dissolved oxygen: {rmse[0]}')\n",
    "print(f'- RMSE (Algae): {rmse[1]}')\n",
    "\n",
    "Y_pred = model.predict(X_test[1:-1], Y_test[1:-1])\n",
    "Y_true = Y_test[2:]\n",
    "rmse = np.sqrt(np.mean((Y_true - Y_pred)**2, axis=0))\n",
    "\n",
    "print('Test:')\n",
    "print(f'- RMSE (Dissolved oxygen: {rmse[0]}')\n",
    "print(f'- RMSE (Algae): {rmse[1]}')\n",
    "print()\n",
    "\n",
    "print('Copy Outputs')\n",
    "\n",
    "Y_pred = Y_train[1:-1]\n",
    "Y_true = Y_train[2:]\n",
    "rmse = np.sqrt(np.mean((Y_true - Y_pred)**2, axis=0))\n",
    "\n",
    "print('Train:')\n",
    "print(f'- RMSE (Dissolved oxygen: {rmse[0]}')\n",
    "print(f'- RMSE (Algae): {rmse[1]}')\n",
    "\n",
    "Y_pred = Y_test[1:-1]\n",
    "Y_true = Y_test[2:]\n",
    "rmse = np.sqrt(np.mean((Y_true - Y_pred)**2, axis=0))\n",
    "\n",
    "print('Test:')\n",
    "print(f'- RMSE (Dissolved oxygen: {rmse[0]}')\n",
    "print(f'- RMSE (Algae): {rmse[1]}')"
   ]
  },
  {
   "cell_type": "markdown",
   "metadata": {},
   "source": [
    "Regularization can counteract this problem to some degree. Lets compute the RMSE for our best performing regularized linear model, which we have identified in Task 3:"
   ]
  },
  {
   "cell_type": "code",
   "execution_count": 8,
   "metadata": {},
   "outputs": [
    {
     "name": "stdout",
     "output_type": "stream",
     "text": [
      "Linear Lag Ridge Regression\n",
      "Train:\n",
      "- RMSE (Dissolved oxygen: 0.7453537025967383\n",
      "- RMSE (Algae): 965.0865777311327\n",
      "Test:\n",
      "- RMSE (Dissolved oxygen: 1.801588460694909\n",
      "- RMSE (Algae): 1385.099275278409\n",
      "\n"
     ]
    }
   ],
   "source": [
    "print('Linear Lag Ridge Regression')\n",
    "\n",
    "model = RidgeRegression(lambda_=33.0, feature_type='lin', lag=True)\n",
    "model.fit(X_train, Y_train)\n",
    "\n",
    "Y_pred = model.predict(X_train[:-1], Y_train[:-1])\n",
    "Y_true = Y_train[2:]\n",
    "rmse = np.sqrt(np.mean((Y_true - Y_pred)**2, axis=0))\n",
    "\n",
    "print('Train:')\n",
    "print(f'- RMSE (Dissolved oxygen: {rmse[0]}')\n",
    "print(f'- RMSE (Algae): {rmse[1]}')\n",
    "\n",
    "Y_pred = model.predict(X_test[:-1], Y_test[:-1])\n",
    "Y_true = Y_test[2:]\n",
    "rmse = np.sqrt(np.mean((Y_true - Y_pred)**2, axis=0))\n",
    "\n",
    "print('Test:')\n",
    "print(f'- RMSE (Dissolved oxygen: {rmse[0]}')\n",
    "print(f'- RMSE (Algae): {rmse[1]}')\n",
    "print()"
   ]
  },
  {
   "cell_type": "markdown",
   "metadata": {},
   "source": [
    "Even with regularization, we can see overfitting on the training data.\n",
    "Additionally, we can see that while our model performance is closer to the copy baseline, we still perform worse.\n",
    "\n",
    "### Numerical Benefits of Ridge Regression\n",
    "\n",
    "The condition of a matrix gives a measure of how accurately its inverse can be computed. When we solve the least-squares problem for linear regression, we need to compute the inverse of $\\Phi^\\top \\Phi$. Therefore we want this matrix to not be ill-conditioned. \n",
    "\n",
    "The condition number is given by\n",
    "$$\n",
    "C(M) = \\frac{\\lvert\\lambda_\\max(A)\\rvert}{\\lvert\\lambda_\\min(A)\\rvert}\n",
    "$$\n",
    "where $\\lambda_\\max(A)$ and $\\lambda_\\min(A)$ are the largest and smallest eigenvalue of matrix $A$ respectively.\n",
    "\n",
    "When $\\lambda_\\min(A)$ is zero, $A$ is singular and does not have an inverse. If the ratio between largest and smallest eigenvalue is large, then $A$'s condition number is large and the matrix is ill-conditioned. For very large condition numbers, the matrix is \"almost\" singular and therefore sensitive to numerical errors. The condition number of a matrix corresponds to how strongly the matrix responds to small changes in its input. A larg condition number implies large changes in output for small inputs.\n",
    "\n",
    "We can compute the condition number for our example using a linear model with linear features and no regularization, as follows:"
   ]
  },
  {
   "cell_type": "code",
   "execution_count": 9,
   "metadata": {},
   "outputs": [
    {
     "data": {
      "text/plain": [
       "80637514.35398312"
      ]
     },
     "execution_count": 9,
     "metadata": {},
     "output_type": "execute_result"
    }
   ],
   "source": [
    "XY = np.hstack((X_train, Y_train))\n",
    "np.linalg.cond(XY.T @ XY)"
   ]
  },
  {
   "cell_type": "markdown",
   "metadata": {},
   "source": [
    "We can see that the condition of this matrix is extremely large and the matrix $\\Phi^\\top \\Phi$ is almost singular. Accordingly, computing the inverse will be prone to numerical inaccuracies.\n",
    "\n",
    "We can improve the condition of $\\Phi^\\top \\Phi$ via regularization and via normalization of the features in $\\Phi$.\n",
    "\n",
    "Ridge regularization shifts the eigenvalues of $\\Phi^\\top \\Phi$ by its regularization factor and can thereby improve the condition of the matrix. The to be inverted matrix of ridge regression is given by:\n",
    "$$\n",
    "\\begin{align}\n",
    "\\Phi^\\top \\Phi + \\gamma \\mathbf{I}\n",
    "\\end{align}\n",
    "$$\n",
    "The diagonal matrix $\\gamma \\mathbf{I}$ adds the regularization term $\\gamma$ to each eigenvalue of  $\\Phi^\\top \\Phi$. Accordingly, the smallest and largest eigenvalue will converge towards each other for infinitely large $\\gamma$. As a consequence, for increasing gamma the condition of the matrix will converge towards $1$.\n",
    "\n",
    "We can see this behavior for our example as follows:"
   ]
  },
  {
   "cell_type": "code",
   "execution_count": 10,
   "metadata": {},
   "outputs": [
    {
     "data": {
      "image/png": "[encoded data removed]",
      "text/plain": [
       "<Figure size 432x288 with 1 Axes>"
      ]
     },
     "metadata": {
      "needs_background": "light"
     },
     "output_type": "display_data"
    }
   ],
   "source": [
    "gammas = np.arange(0.0, 5000.0, 1.0)\n",
    "cond = []\n",
    "for gamma in gammas:\n",
    "    M = XY.T @ XY + gamma * np.eye(XY.shape[1])\n",
    "    cond.append(\n",
    "        np.linalg.cond(M)\n",
    "    )\n",
    "fig, ax = plt.subplots()\n",
    "ax.plot(gammas, cond)\n",
    "ax.set_yscale('log')\n",
    "ax.set_xlabel('gamma')\n",
    "ax.set_ylabel('condition');"
   ]
  },
  {
   "cell_type": "markdown",
   "metadata": {},
   "source": [
    "Normalization can also improve the condition of a matrix as it scales the eigenvalues of the matrix, thereby also scaling the condition to a usually smaller value.\n",
    "\n",
    "We can see this for our example:"
   ]
  },
  {
   "cell_type": "code",
   "execution_count": 11,
   "metadata": {},
   "outputs": [
    {
     "data": {
      "text/plain": [
       "137.27238340794744"
      ]
     },
     "execution_count": 11,
     "metadata": {},
     "output_type": "execute_result"
    }
   ],
   "source": [
    "XY_mean = np.mean(XY, axis=0)\n",
    "XY_std = np.std(XY, axis=0)\n",
    "XY_normed = (XY - XY_mean) / XY_std\n",
    "np.linalg.cond(XY_normed.T @ XY_normed)"
   ]
  },
  {
   "cell_type": "markdown",
   "metadata": {},
   "source": [
    "While the condition number is still large, it is significantly smaller than for the original matrix. Accordingly, numerical inaccuracies when computing the inverse are reduced."
   ]
  },
  {
   "cell_type": "markdown",
   "metadata": {
    "pycharm": {
     "name": "#%% md\n"
    }
   },
   "source": [
    "## Task 3: Hyperparameter-Optimization with Grid Search\n",
    "\n",
    "(Not required for B.Sc. Data Science)\n",
    "\n",
    "In this task, you will look for the optimal combination of hyperparameters for your implemented ridge regression.\n",
    "\n",
    "Grid search is a simple hyperparameter optimization algorithm, where you train and evaluate your model for each possible combination of hyperparameters out of a predefined set of hyperparameters.\n",
    "For example, if you apply grid search over kNN, you might search over $k \\in \\{1, 3, 5\\}$ and over weighting schemes $\\{\\text{uniform}, \\text{euclidean}\\}$. These choices would result in a total of 6 combinations of hyperparameters.\n",
    "\n",
    "a\\) You will implement a grid search algorithm for your hyperparameters. Search over feature types `lin` and `quad`, both options for `lag`, and various values for `lambda_`. *Hint:* You will have to try some very large values of `lambda_`, since the input and output data is not normalized.\n",
    "\n",
    "b\\) For each combination of feature type and lag, you will create a plot showing the regularization parameter `lambda_` on the x-axis using a logarithmic scale and the RMSE on the y-axis. There should be a total of four plots.\n",
    "\n",
    "c\\) Report the best performing combination of feature type, lag, and regularization.\n",
    "\n",
    "d\\) Finally, shortly discuss your results. How does the regularization and error term relate to each other? Why do you think this behavior occurs?\n",
    "\n",
    "*Hint:* There are two output variables and accordingly two errors for each evaluated model. To simplify the evaluation and hyperparameter optimization, you will have to average these errors to a single error. Note that the output variables have different magnitudes and units, therefore you will have to normalize the variables before computing such an averaged error."
   ]
  },
  {
   "cell_type": "code",
   "execution_count": 12,
   "metadata": {
    "pycharm": {
     "name": "#%%\n"
    }
   },
   "outputs": [
    {
     "name": "stdout",
     "output_type": "stream",
     "text": [
      "Best combination of hyperparameters: lag=True, feature=lin, lambda=33.0\n"
     ]
    },
    {
     "data": {
      "image/png": "[encoded data removed]",
      "text/plain": [
       "<Figure size 432x576 with 4 Axes>"
      ]
     },
     "metadata": {
      "needs_background": "light"
     },
     "output_type": "display_data"
    }
   ],
   "source": [
    "# Your code here\n",
    "class Normalizer:\n",
    "    def __init__(self):\n",
    "        self.means = None\n",
    "        self.stds = None\n",
    "\n",
    "    def fit(self, Y):\n",
    "        self.means = np.mean(Y, axis=0)\n",
    "        self.stds = np.std(Y, axis=0)\n",
    "\n",
    "    def transform(self, Y):\n",
    "        return (Y - self.means) / self.stds\n",
    "\n",
    "\n",
    "def train_evaluate(X_train, Y_train, X_test, Y_test, lambda_, feature_type, lag):\n",
    "    norm = Normalizer()\n",
    "    norm.fit(Y_train)\n",
    "\n",
    "    model = RidgeRegression(lambda_=lambda_, feature_type=feature_type, lag=lag)\n",
    "    model.fit(X_train, Y_train)\n",
    "    Y_pred = model.predict(X_test[:-1], Y_test[:-1])\n",
    "\n",
    "    # To ensure comparable error terms, cut off the first prediction when lag is not used.\n",
    "    # This way the first term is not present for both lag=False and lag=True.\n",
    "    if not lag:\n",
    "        Y_pred = Y_pred[1:]\n",
    "    Y_true = Y_test[2:]\n",
    "    # Normalize outputs and compute aggregated RMSE over both variables.\n",
    "    rmse = np.sqrt(np.mean((norm.transform(Y_true) - norm.transform(Y_pred))**2))\n",
    "    return rmse\n",
    "\n",
    "\n",
    "lag_options = (False, True)\n",
    "feature_options = ('lin', 'quad')\n",
    "lambda_options = (\n",
    "    tuple(np.arange(0.0, 100.0, 0.5)) +\n",
    "    tuple(np.arange(100.0, 1000.0, 1.0))\n",
    ")\n",
    "\n",
    "results = dict()\n",
    "for lag in lag_options:\n",
    "    for feature in feature_options:\n",
    "        results[(lag, feature)] = []\n",
    "        for lambda_ in lambda_options:\n",
    "            rmse = train_evaluate(X_train, Y_train, X_test, Y_test, lambda_, feature, lag)\n",
    "            results[(lag, feature)].append(rmse)\n",
    "\n",
    "best_lag, best_type = min(results.items(), key=lambda t: min(t[1]))[0]\n",
    "best_lambda = lambda_options[np.argmin(results[(best_lag, best_type)])]\n",
    "print(f'Best combination of hyperparameters: lag={best_lag}, feature={best_type}, lambda={best_lambda}')\n",
    "\n",
    "fig, ax = plt.subplots(len(results.keys()), sharex=True, figsize=(6, 8))\n",
    "for idx, ((lag, feature), rmses) in enumerate(results.items()):\n",
    "    ax[idx].plot(lambda_options, rmses)\n",
    "    ax[idx].set_title(f'lag={lag}, feature={feature}')\n",
    "    ax[idx].set_ylabel('RMSE')\n",
    "    ax[idx].set_ylim((0.0, 1.5*np.mean(rmses)))\n",
    "    ax[idx].set_xscale('log')\n",
    "    min_x = lambda_options[np.argmin(rmses)]\n",
    "    min_y = np.min(rmses)\n",
    "    ax[idx].axvline(min_x, color='C1')\n",
    "    ax[idx].text(min_x, 1.1*min_y, f'minimum\\nlambda={min_x}\\nerror={min_y:.2f}', color='C1', horizontalalignment='center')\n",
    "ax[-1].set_xlabel('lambda');"
   ]
  },
  {
   "cell_type": "code",
   "execution_count": null,
   "metadata": {},
   "outputs": [],
   "source": []
  }
 ],
 "metadata": {
  "kernelspec": {
   "display_name": "Python 3 (ipykernel)",
   "language": "python",
   "name": "python3"
  },
  "language_info": {
   "codemirror_mode": {
    "name": "ipython",
    "version": 3
   },
   "file_extension": ".py",
   "mimetype": "text/x-python",
   "name": "python",
   "nbconvert_exporter": "python",
   "pygments_lexer": "ipython3",
   "version": "3.9.0"
  }
 },
 "nbformat": 4,
 "nbformat_minor": 1
}
